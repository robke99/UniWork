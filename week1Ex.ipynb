{
 "cells": [
  {
   "cell_type": "code",
   "execution_count": null,
   "id": "ee00fb10",
   "metadata": {},
   "outputs": [],
   "source": [
    "# Q1\n",
    "first_float = int(input('Enter the first number: '))\n",
    "second_float = int(input(\"Enter second number: \"))\n",
    "numbers = [first_float, second_float]\n",
    "max_no = max(numbers)\n",
    "min_no = min(numbers)\n",
    "print('the maximum number is ', max_no, 'and the minimum number is ', min_no )\n"
   ]
  },
  {
   "cell_type": "code",
   "execution_count": null,
   "id": "092781a4",
   "metadata": {},
   "outputs": [],
   "source": [
    "#Q2 a)\n",
    "interest1 = input('What are you interested in? (1 of 3): ')\n",
    "interest2 = input('What are you interested in? (2 of 3): ')\n",
    "interest3 = input('What are you interested in? (3 of 3): ')\n",
    "interest_list = [interest1, interest2, interest3]\n",
    "print(interest_list)"
   ]
  },
  {
   "cell_type": "code",
   "execution_count": null,
   "id": "34d72e52",
   "metadata": {},
   "outputs": [],
   "source": [
    "#2 b)\n",
    "no_of_int = int(input('How many things are you interested in? :'))\n",
    "interest = []\n",
    "for i in range(no_of_int):\n",
    "    interest.append(input('Type your interest and click Enter'))\n",
    "print(interest)"
   ]
  },
  {
   "cell_type": "code",
   "execution_count": 20,
   "id": "7889fa98",
   "metadata": {},
   "outputs": [
    {
     "name": "stdout",
     "output_type": "stream",
     "text": [
      "1\n",
      "2\n",
      "Richard\n",
      "4\n",
      "Manuel\n",
      "Richard\n",
      "7\n",
      "8\n",
      "Richard\n",
      "Manuel\n",
      "11\n",
      "Richard\n",
      "13\n",
      "14\n",
      "Cameron\n",
      "16\n",
      "17\n",
      "Richard\n",
      "19\n",
      "Manuel\n",
      "Richard\n",
      "22\n",
      "23\n",
      "Richard\n",
      "Manuel\n",
      "26\n",
      "Richard\n",
      "28\n",
      "29\n",
      "Cameron\n"
     ]
    }
   ],
   "source": [
    "#Q3\n",
    "counter = 0\n",
    "for i in range(1,31):\n",
    "    counter+=1\n",
    "    if counter%3 ==0 and counter%5==0:\n",
    "        print('Cameron')\n",
    "    elif counter%3 == 0:\n",
    "        print('Richard')\n",
    "    elif counter%5 == 0:\n",
    "        print('Manuel')\n",
    "    else:\n",
    "        print(counter)"
   ]
  },
  {
   "cell_type": "code",
   "execution_count": 40,
   "id": "dbf1fa0f",
   "metadata": {},
   "outputs": [
    {
     "name": "stdout",
     "output_type": "stream",
     "text": [
      "Cadiz\n"
     ]
    }
   ],
   "source": [
    "print(cities[counter])\n",
    " ({names[counter]:{\n",
    "        cities[counter],countries[counter]\n",
    "    }})\n",
    "    counter=+1"
   ]
  },
  {
   "cell_type": "code",
   "execution_count": 45,
   "id": "25fb7717",
   "metadata": {},
   "outputs": [
    {
     "name": "stdout",
     "output_type": "stream",
     "text": [
      "{'Name': {}}\n"
     ]
    }
   ],
   "source": [
    "print(my_dict)"
   ]
  },
  {
   "cell_type": "code",
   "execution_count": 53,
   "id": "668fc137",
   "metadata": {},
   "outputs": [
    {
     "name": "stdout",
     "output_type": "stream",
     "text": [
      "{'Richard': {'City': 'Karlsruhe', 'Country': 'Germany'}, 'Manuel': {'City': 'Cadiz', 'Country': 'Spain'}, 'Cameron': {'City': 'London', 'Country': 'UK'}}\n"
     ]
    }
   ],
   "source": [
    "#Q4\n",
    "people = {}\n",
    "names = [\"Richard\", \"Manuel\", \"Cameron\"]\n",
    "cities = [\"Karlsruhe\", \"Cadiz\", \"London\"]\n",
    "countries = [\"Germany\", \"Spain\", \"UK\"]\n",
    "\n",
    "counter =0\n",
    "for name in names:\n",
    "    people[name]= {\n",
    "        'City': cities[counter],\n",
    "        'Country': countries[counter]\n",
    "    }\n",
    "    counter+=1\n",
    "   \n",
    "    \n",
    "\n",
    "print(people)"
   ]
  },
  {
   "cell_type": "code",
   "execution_count": 54,
   "id": "a2659759",
   "metadata": {},
   "outputs": [
    {
     "data": {
      "text/plain": [
       "<enumerate at 0x21011cfea00>"
      ]
     },
     "execution_count": 54,
     "metadata": {},
     "output_type": "execute_result"
    }
   ],
   "source": [
    "#Q5\n"
   ]
  },
  {
   "cell_type": "code",
   "execution_count": null,
   "id": "d0b577bc",
   "metadata": {},
   "outputs": [],
   "source": []
  }
 ],
 "metadata": {
  "kernelspec": {
   "display_name": "Python 3 (ipykernel)",
   "language": "python",
   "name": "python3"
  },
  "language_info": {
   "codemirror_mode": {
    "name": "ipython",
    "version": 3
   },
   "file_extension": ".py",
   "mimetype": "text/x-python",
   "name": "python",
   "nbconvert_exporter": "python",
   "pygments_lexer": "ipython3",
   "version": "3.9.12"
  }
 },
 "nbformat": 4,
 "nbformat_minor": 5
}
